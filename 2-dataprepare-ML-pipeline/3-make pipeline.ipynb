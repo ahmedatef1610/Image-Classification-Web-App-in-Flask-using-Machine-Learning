{
 "cells": [
  {
   "cell_type": "code",
   "execution_count": 1,
   "metadata": {},
   "outputs": [],
   "source": [
    "import numpy as np\n",
    "import pandas as pd\n",
    "import scipy\n",
    "import sklearn\n",
    "from sklearn.pipeline import make_pipeline\n",
    "import os\n",
    "\n",
    "# skimage\n",
    "import skimage\n",
    "import skimage.color\n",
    "import skimage.transform\n",
    "import skimage.feature\n",
    "import skimage.io"
   ]
  },
  {
   "cell_type": "code",
   "execution_count": 2,
   "metadata": {},
   "outputs": [],
   "source": [
    "from sklearn.base import BaseEstimator, TransformerMixin\n",
    "\n",
    "class rgb2gray_transform(BaseEstimator,TransformerMixin):\n",
    "    import skimage.color\n",
    "    def __init__(self):\n",
    "        pass\n",
    "    \n",
    "    def fit(self,X,y=None):\n",
    "        return self\n",
    "    \n",
    "    def transform(self,X,y=None):\n",
    "        return np.array([skimage.color.rgb2gray(x) for x in X])\n",
    "    \n",
    "    \n",
    "class hogtransformer(BaseEstimator,TransformerMixin):\n",
    "    import skimage.feature\n",
    "    def __init__(self,orientations=9,pixels_per_cell=(8, 8),cells_per_block=(3, 3),):\n",
    "        self.orientations = orientations\n",
    "        self.pixels_per_cell = pixels_per_cell\n",
    "        self.cells_per_block = cells_per_block\n",
    "        \n",
    "        \n",
    "    def fit(self,X,y=None):\n",
    "        return self\n",
    "    \n",
    "    def transform(self,X,y=None):\n",
    "        def local_hog(img):\n",
    "            hog_features= skimage.feature.hog(img,orientations=self.orientations,\n",
    "                                pixels_per_cell=self.pixels_per_cell,\n",
    "                                cells_per_block=self.cells_per_block)\n",
    "            \n",
    "            return hog_features\n",
    "        \n",
    "        hfeatures = np.array([local_hog(x) for x in X])\n",
    "        return hfeatures"
   ]
  },
  {
   "cell_type": "code",
   "execution_count": 3,
   "metadata": {},
   "outputs": [],
   "source": [
    "import matplotlib.pyplot as plt\n",
    "%matplotlib inline"
   ]
  },
  {
   "cell_type": "code",
   "execution_count": 4,
   "metadata": {},
   "outputs": [],
   "source": [
    "# pipeline model\n",
    "image = skimage.io.imread('Images\\dog_test.jpg')\n",
    "image = skimage.io.imread('Images\\eagle.jpg')\n",
    "# transform image into 80 x 80\n",
    "image_resize = skimage.transform.resize(image,(80,80))\n",
    "image_scale = 255*image_resize\n",
    "image_transform = image_scale.astype(np.uint8)\n",
    "# rgb to gray\n",
    "gray = skimage.color.rgb2gray(image_transform)\n",
    "# hog feature\n",
    "feature_vector = skimage.feature.hog(gray,\n",
    "                              orientations=9,\n",
    "                              pixels_per_cell=(8,8),\n",
    "                              cells_per_block=(3,3))"
   ]
  },
  {
   "cell_type": "code",
   "execution_count": 7,
   "metadata": {},
   "outputs": [
    {
     "data": {
      "text/plain": "array([0.01673629, 0.00618719, 0.0491643 , ..., 0.03468617, 0.01951081,\n       0.00287858])"
     },
     "execution_count": 7,
     "metadata": {},
     "output_type": "execute_result"
    }
   ],
   "source": [
    "feature_vector"
   ]
  },
  {
   "cell_type": "code",
   "execution_count": 8,
   "metadata": {},
   "outputs": [],
   "source": [
    "import pickle\n",
    "# load the model\n",
    "# model = pickle.load(open('dsa_image_classification_sgd.pickle','rb'))\n",
    "model = pickle.load(open('MLPClassifierModel_model_best.pickle','rb'))\n",
    "scaler = pickle.load(open('dsa_scaler.pickle','rb'))"
   ]
  },
  {
   "cell_type": "code",
   "execution_count": 9,
   "metadata": {},
   "outputs": [
    {
     "data": {
      "text/plain": "{'activation': 'relu',\n 'alpha': 0.0001,\n 'batch_size': 20,\n 'beta_1': 0.9,\n 'beta_2': 0.999,\n 'early_stopping': True,\n 'epsilon': 1e-08,\n 'hidden_layer_sizes': (300, 200, 100),\n 'learning_rate': 'adaptive',\n 'learning_rate_init': 0.0001,\n 'max_fun': 15000,\n 'max_iter': 1000,\n 'momentum': 0.9,\n 'n_iter_no_change': 10,\n 'nesterovs_momentum': True,\n 'power_t': 0.5,\n 'random_state': None,\n 'shuffle': True,\n 'solver': 'adam',\n 'tol': 0.0001,\n 'validation_fraction': 0.1,\n 'verbose': True,\n 'warm_start': False}"
     },
     "execution_count": 9,
     "metadata": {},
     "output_type": "execute_result"
    }
   ],
   "source": [
    "model.get_params()"
   ]
  },
  {
   "cell_type": "code",
   "execution_count": 10,
   "metadata": {},
   "outputs": [
    {
     "data": {
      "text/plain": "(5184,)"
     },
     "execution_count": 10,
     "metadata": {},
     "output_type": "execute_result"
    }
   ],
   "source": [
    "feature_vector.shape"
   ]
  },
  {
   "cell_type": "code",
   "execution_count": 11,
   "metadata": {},
   "outputs": [],
   "source": [
    "scalex = scaler.transform(feature_vector.reshape(1,-1))\n",
    "result = model.predict(scalex)"
   ]
  },
  {
   "cell_type": "code",
   "execution_count": 12,
   "metadata": {},
   "outputs": [
    {
     "data": {
      "text/plain": "(1, 5184)"
     },
     "execution_count": 12,
     "metadata": {},
     "output_type": "execute_result"
    }
   ],
   "source": [
    "scalex.shape"
   ]
  },
  {
   "cell_type": "code",
   "execution_count": 13,
   "metadata": {},
   "outputs": [
    {
     "data": {
      "text/plain": "array(['eagle'], dtype='<U8')"
     },
     "execution_count": 13,
     "metadata": {},
     "output_type": "execute_result"
    }
   ],
   "source": [
    "result"
   ]
  },
  {
   "cell_type": "code",
   "execution_count": 14,
   "metadata": {},
   "outputs": [],
   "source": [
    "# cal the probabilty \n",
    "# decision_value = model.decision_function(scalex)\n",
    "decision_value = model.predict_proba(scalex)"
   ]
  },
  {
   "cell_type": "code",
   "execution_count": 15,
   "metadata": {},
   "outputs": [
    {
     "data": {
      "text/plain": "array([[6.69905663e-07, 2.25398430e-05, 3.92068947e-04, 5.06321850e-05,\n        5.68076339e-06, 4.59083933e-04, 8.64723562e-03, 9.82095122e-01,\n        1.32073325e-06, 1.48727489e-03, 2.51630952e-06, 9.23205759e-04,\n        1.72876639e-05, 6.43595159e-07, 6.75358808e-05, 4.93634697e-03,\n        1.02482456e-04, 9.55440469e-06, 7.77468981e-04, 1.32882356e-06]])"
     },
     "execution_count": 15,
     "metadata": {},
     "output_type": "execute_result"
    }
   ],
   "source": [
    "decision_value"
   ]
  },
  {
   "cell_type": "code",
   "execution_count": 16,
   "metadata": {},
   "outputs": [],
   "source": [
    "labels = model.classes_"
   ]
  },
  {
   "cell_type": "code",
   "execution_count": 17,
   "metadata": {},
   "outputs": [],
   "source": [
    "decision_value = decision_value.flatten()"
   ]
  },
  {
   "cell_type": "code",
   "execution_count": 34,
   "metadata": {},
   "outputs": [
    {
     "data": {
      "image/png": "[encoded data removed]",
      "text/plain": "<Figure size 864x576 with 1 Axes>"
     },
     "metadata": {
      "needs_background": "light"
     },
     "output_type": "display_data"
    }
   ],
   "source": [
    "plt.figure(figsize=(12,8))\r\n",
    "plt.barh(labels,decision_value*100)\r\n",
    "plt.grid()"
   ]
  },
  {
   "cell_type": "code",
   "execution_count": 19,
   "metadata": {},
   "outputs": [
    {
     "data": {
      "text/plain": "array([0.00848709, 0.00848796, 0.00850264, 0.00848908, 0.00848729,\n       0.00850531, 0.00883729, 0.83802542, 0.00848712, 0.0085463 ,\n       0.00848717, 0.00852379, 0.00848775, 0.00848709, 0.00848975,\n       0.00868526, 0.00849114, 0.00848745, 0.00851798, 0.00848712])"
     },
     "execution_count": 19,
     "metadata": {},
     "output_type": "execute_result"
    }
   ],
   "source": [
    "# cal. z score\r\n",
    "z = scipy.stats.zscore(decision_value)\r\n",
    "prob_value = scipy.special.softmax(z)\r\n",
    "prob_value"
   ]
  },
  {
   "cell_type": "code",
   "execution_count": 20,
   "metadata": {},
   "outputs": [
    {
     "data": {
      "image/png": "[encoded data removed]",
      "text/plain": "<Figure size 864x576 with 1 Axes>"
     },
     "metadata": {
      "needs_background": "light"
     },
     "output_type": "display_data"
    }
   ],
   "source": [
    "plt.figure(figsize=(12,8))\n",
    "plt.barh(labels,prob_value)\n",
    "plt.grid()"
   ]
  },
  {
   "cell_type": "code",
   "execution_count": 21,
   "metadata": {},
   "outputs": [
    {
     "data": {
      "text/plain": "array(['bear', 'cat', 'chicken', 'cow', 'deer', 'dog', 'duck', 'eagle',\n       'elephant', 'human', 'lion', 'monkey', 'mouse', 'natural', 'panda',\n       'pigeon', 'rabbit', 'sheep', 'tiger', 'wolf'], dtype='<U8')"
     },
     "execution_count": 21,
     "metadata": {},
     "output_type": "execute_result"
    }
   ],
   "source": [
    "labels"
   ]
  },
  {
   "cell_type": "code",
   "execution_count": 22,
   "metadata": {},
   "outputs": [
    {
     "data": {
      "text/plain": "array([13,  0,  8, 19, 10,  4, 17, 12,  1,  3, 14, 16,  2,  5, 18, 11,  9,\n       15,  6,  7], dtype=int64)"
     },
     "execution_count": 22,
     "metadata": {},
     "output_type": "execute_result"
    }
   ],
   "source": [
    "prob_value.argsort()"
   ]
  },
  {
   "cell_type": "code",
   "execution_count": 23,
   "metadata": {},
   "outputs": [],
   "source": [
    "# top five probabilty values\n",
    "top_5_prob_ind = prob_value.argsort()[::-1][:5]"
   ]
  },
  {
   "cell_type": "code",
   "execution_count": 24,
   "metadata": {},
   "outputs": [
    {
     "data": {
      "text/plain": "array([ 7,  6, 15,  9, 11], dtype=int64)"
     },
     "execution_count": 24,
     "metadata": {},
     "output_type": "execute_result"
    }
   ],
   "source": [
    "top_5_prob_ind"
   ]
  },
  {
   "cell_type": "code",
   "execution_count": 25,
   "metadata": {},
   "outputs": [],
   "source": [
    "top_labels = labels[top_5_prob_ind]\n",
    "top_prob = prob_value[top_5_prob_ind]"
   ]
  },
  {
   "cell_type": "code",
   "execution_count": 26,
   "metadata": {},
   "outputs": [
    {
     "data": {
      "text/plain": "(array([0.83802542, 0.00883729, 0.00868526, 0.0085463 , 0.00852379]),\n array(['eagle', 'duck', 'pigeon', 'human', 'monkey'], dtype='<U8'))"
     },
     "execution_count": 26,
     "metadata": {},
     "output_type": "execute_result"
    }
   ],
   "source": [
    "top_prob,top_labels"
   ]
  },
  {
   "cell_type": "code",
   "execution_count": 27,
   "metadata": {},
   "outputs": [],
   "source": [
    "top_dict = dict()\n",
    "for key,val in zip(top_labels,top_prob):\n",
    "    top_dict.update({key:np.round(val,3)})"
   ]
  },
  {
   "cell_type": "code",
   "execution_count": 28,
   "metadata": {},
   "outputs": [
    {
     "data": {
      "text/plain": "{'eagle': 0.838,\n 'duck': 0.009,\n 'pigeon': 0.009,\n 'human': 0.009,\n 'monkey': 0.009}"
     },
     "execution_count": 28,
     "metadata": {},
     "output_type": "execute_result"
    }
   ],
   "source": [
    "top_dict"
   ]
  },
  {
   "cell_type": "code",
   "execution_count": 29,
   "metadata": {},
   "outputs": [],
   "source": [
    "def pipeline_model(path, scaler_transform, model_sgd):\n",
    "\n",
    "    # pipeline model\n",
    "    image = skimage.io.imread(path)\n",
    "    # transform image into 80 x 80\n",
    "    image_resize = skimage.transform.resize(image,(80,80))\n",
    "    image_scale = 255*image_resize\n",
    "    image_transform = image_scale.astype(np.uint8)\n",
    "    # rgb to gray\n",
    "    gray = skimage.color.rgb2gray(image_transform)\n",
    "    # hog feature\n",
    "    feature_vector = skimage.feature.hog(   gray,\n",
    "                                            orientations=9,\n",
    "                                            pixels_per_cell=(8, 8),\n",
    "                                            cells_per_block=(3, 3))\n",
    "    # scaling\n",
    "    scalex = scaler_transform.transform(feature_vector.reshape(1,-1))\n",
    "    result = model_sgd.predict(scalex)\n",
    "\n",
    "    # decision function # confidence\n",
    "    # decision_value = model_sgd.decision_function(scalex).flatten()\n",
    "    decision_value = model_sgd.predict_proba(scalex).flatten()\n",
    "    labels = model_sgd.classes_\n",
    "\n",
    "    # probability\n",
    "    z = scipy.stats.zscore(decision_value)\n",
    "    prob_value = scipy.special.softmax(z)\n",
    "    \n",
    "    # top 5\n",
    "    top_5_prob_ind = prob_value.argsort()[::-1][:5]\n",
    "    top_labels = labels[top_5_prob_ind]\n",
    "    top_prob = prob_value[top_5_prob_ind]\n",
    "    \n",
    "    # put in dictornary\n",
    "    top_dict = dict()\n",
    "    for key,val in zip(top_labels,top_prob):\n",
    "        top_dict.update({key:np.round(val,3)})\n",
    "    \n",
    "    return top_dict"
   ]
  },
  {
   "cell_type": "code",
   "execution_count": 30,
   "metadata": {},
   "outputs": [
    {
     "data": {
      "text/plain": "{'eagle': 0.838,\n 'duck': 0.009,\n 'pigeon': 0.009,\n 'human': 0.009,\n 'monkey': 0.009}"
     },
     "execution_count": 30,
     "metadata": {},
     "output_type": "execute_result"
    }
   ],
   "source": [
    "res = pipeline_model('images/eagle.jpg',scaler,model)\n",
    "res"
   ]
  },
  {
   "cell_type": "code",
   "execution_count": null,
   "metadata": {},
   "outputs": [],
   "source": []
  }
 ],
 "metadata": {
  "kernelspec": {
   "display_name": "Python 3.8.2 64-bit",
   "name": "python382jvsc74a57bd01baa965d5efe3ac65b79dfc60c0d706280b1da80fedb7760faf2759126c4f253"
  },
  "language_info": {
   "codemirror_mode": {
    "name": "ipython",
    "version": 3
   },
   "file_extension": ".py",
   "mimetype": "text/x-python",
   "name": "python",
   "nbconvert_exporter": "python",
   "pygments_lexer": "ipython3",
   "version": "3.8.2"
  }
 },
 "nbformat": 4,
 "nbformat_minor": 4
}